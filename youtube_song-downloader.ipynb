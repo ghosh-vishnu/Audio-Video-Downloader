{
 "cells": [
  {
   "cell_type": "code",
   "execution_count": null,
   "metadata": {},
   "outputs": [],
   "source": [
    "from pytube import YouTube\n",
    "link=\"https://youtu.be/RhEjmHeDNoA\"# Here You Fill Song Link\n",
    "youtube_1=YouTube(link)\n",
    "videos=youtube_1.streams.all()\n",
    "vid=list(enumerate(videos))\n",
    "for i in vid:\n",
    "    print(i)\n",
    "print()\n",
    "strm=int(input(\"Enter Your Video Quility which you want to download: \"))# Here You input Your Video/Audio Quality\n",
    "videos[strm].download()\n",
    "print(\"Your Video is Downloaded Successfully\")"
   ]
  },
  {
   "cell_type": "code",
   "execution_count": null,
   "metadata": {},
   "outputs": [],
   "source": []
  }
 ],
 "metadata": {
  "kernelspec": {
   "display_name": "Python 3",
   "language": "python",
   "name": "python3"
  },
  "language_info": {
   "codemirror_mode": {
    "name": "ipython",
    "version": 3
   },
   "file_extension": ".py",
   "mimetype": "text/x-python",
   "name": "python",
   "nbconvert_exporter": "python",
   "pygments_lexer": "ipython3",
   "version": "3.11.2"
  },
  "orig_nbformat": 4
 },
 "nbformat": 4,
 "nbformat_minor": 2
}
